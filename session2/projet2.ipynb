{
 "cells": [
  {
   "cell_type": "markdown",
   "metadata": {},
   "source": [
    "\n",
    "# Projet 2"
   ]
  },
  {
   "cell_type": "code",
   "execution_count": 1,
   "metadata": {
    "scrolled": false
   },
   "outputs": [],
   "source": [
    "# import des modules usuels\n",
    "import numpy as np\n",
    "import pandas as pd\n",
    "\n",
    "# options d'affichage\n",
    "pd.set_option(\"display.min_rows\", 16)"
   ]
  },
  {
   "cell_type": "code",
   "execution_count": 2,
   "metadata": {
    "scrolled": true
   },
   "outputs": [
    {
     "data": {
      "text/html": [
       "<div>\n",
       "<style scoped>\n",
       "    .dataframe tbody tr th:only-of-type {\n",
       "        vertical-align: middle;\n",
       "    }\n",
       "\n",
       "    .dataframe tbody tr th {\n",
       "        vertical-align: top;\n",
       "    }\n",
       "\n",
       "    .dataframe thead th {\n",
       "        text-align: right;\n",
       "    }\n",
       "</style>\n",
       "<table border=\"1\" class=\"dataframe\">\n",
       "  <thead>\n",
       "    <tr style=\"text-align: right;\">\n",
       "      <th></th>\n",
       "      <th>Code Postal</th>\n",
       "      <th>Commune</th>\n",
       "      <th>Département</th>\n",
       "      <th>Région</th>\n",
       "      <th>Statut</th>\n",
       "      <th>Altitude Moyenne</th>\n",
       "      <th>Superficie</th>\n",
       "      <th>Population</th>\n",
       "      <th>geo_point_2d</th>\n",
       "      <th>geo_shape</th>\n",
       "      <th>Latitude</th>\n",
       "      <th>Longitude</th>\n",
       "    </tr>\n",
       "    <tr>\n",
       "      <th>Code INSEE</th>\n",
       "      <th></th>\n",
       "      <th></th>\n",
       "      <th></th>\n",
       "      <th></th>\n",
       "      <th></th>\n",
       "      <th></th>\n",
       "      <th></th>\n",
       "      <th></th>\n",
       "      <th></th>\n",
       "      <th></th>\n",
       "      <th></th>\n",
       "      <th></th>\n",
       "    </tr>\n",
       "  </thead>\n",
       "  <tbody>\n",
       "    <tr>\n",
       "      <th>01001</th>\n",
       "      <td>01400</td>\n",
       "      <td>L'ABERGEMENT-CLEMENCIAT</td>\n",
       "      <td>AIN</td>\n",
       "      <td>RHONE-ALPES</td>\n",
       "      <td>Commune simple</td>\n",
       "      <td>242.0</td>\n",
       "      <td>1565.0</td>\n",
       "      <td>0.8</td>\n",
       "      <td>46.1534255214, 4.92611354223</td>\n",
       "      <td>{\"type\": \"Polygon\", \"coordinates\": [[[4.926273...</td>\n",
       "      <td>46.153426</td>\n",
       "      <td>4.926114</td>\n",
       "    </tr>\n",
       "    <tr>\n",
       "      <th>01002</th>\n",
       "      <td>01640</td>\n",
       "      <td>L'ABERGEMENT-DE-VAREY</td>\n",
       "      <td>AIN</td>\n",
       "      <td>RHONE-ALPES</td>\n",
       "      <td>Commune simple</td>\n",
       "      <td>483.0</td>\n",
       "      <td>912.0</td>\n",
       "      <td>0.2</td>\n",
       "      <td>46.0091878776, 5.42801696363</td>\n",
       "      <td>{\"type\": \"Polygon\", \"coordinates\": [[[5.430089...</td>\n",
       "      <td>46.009188</td>\n",
       "      <td>5.428017</td>\n",
       "    </tr>\n",
       "    <tr>\n",
       "      <th>01004</th>\n",
       "      <td>01500</td>\n",
       "      <td>AMBERIEU-EN-BUGEY</td>\n",
       "      <td>AIN</td>\n",
       "      <td>RHONE-ALPES</td>\n",
       "      <td>Chef-lieu canton</td>\n",
       "      <td>379.0</td>\n",
       "      <td>2448.0</td>\n",
       "      <td>13.4</td>\n",
       "      <td>45.9608475114, 5.3729257777</td>\n",
       "      <td>{\"type\": \"Polygon\", \"coordinates\": [[[5.386190...</td>\n",
       "      <td>45.960848</td>\n",
       "      <td>5.372926</td>\n",
       "    </tr>\n",
       "    <tr>\n",
       "      <th>01005</th>\n",
       "      <td>01330</td>\n",
       "      <td>AMBERIEUX-EN-DOMBES</td>\n",
       "      <td>AIN</td>\n",
       "      <td>RHONE-ALPES</td>\n",
       "      <td>Commune simple</td>\n",
       "      <td>290.0</td>\n",
       "      <td>1605.0</td>\n",
       "      <td>1.6</td>\n",
       "      <td>45.9961799872, 4.91227250796</td>\n",
       "      <td>{\"type\": \"Polygon\", \"coordinates\": [[[4.895580...</td>\n",
       "      <td>45.996180</td>\n",
       "      <td>4.912273</td>\n",
       "    </tr>\n",
       "    <tr>\n",
       "      <th>01006</th>\n",
       "      <td>01300</td>\n",
       "      <td>AMBLEON</td>\n",
       "      <td>AIN</td>\n",
       "      <td>RHONE-ALPES</td>\n",
       "      <td>Commune simple</td>\n",
       "      <td>589.0</td>\n",
       "      <td>602.0</td>\n",
       "      <td>0.1</td>\n",
       "      <td>45.7494989044, 5.59432017366</td>\n",
       "      <td>{\"type\": \"Polygon\", \"coordinates\": [[[5.614854...</td>\n",
       "      <td>45.749499</td>\n",
       "      <td>5.594320</td>\n",
       "    </tr>\n",
       "  </tbody>\n",
       "</table>\n",
       "</div>"
      ],
      "text/plain": [
       "           Code Postal                  Commune Département       Région  \\\n",
       "Code INSEE                                                                 \n",
       "01001            01400  L'ABERGEMENT-CLEMENCIAT         AIN  RHONE-ALPES   \n",
       "01002            01640    L'ABERGEMENT-DE-VAREY         AIN  RHONE-ALPES   \n",
       "01004            01500        AMBERIEU-EN-BUGEY         AIN  RHONE-ALPES   \n",
       "01005            01330      AMBERIEUX-EN-DOMBES         AIN  RHONE-ALPES   \n",
       "01006            01300                  AMBLEON         AIN  RHONE-ALPES   \n",
       "\n",
       "                      Statut  Altitude Moyenne  Superficie  Population  \\\n",
       "Code INSEE                                                               \n",
       "01001         Commune simple             242.0      1565.0         0.8   \n",
       "01002         Commune simple             483.0       912.0         0.2   \n",
       "01004       Chef-lieu canton             379.0      2448.0        13.4   \n",
       "01005         Commune simple             290.0      1605.0         1.6   \n",
       "01006         Commune simple             589.0       602.0         0.1   \n",
       "\n",
       "                            geo_point_2d  \\\n",
       "Code INSEE                                 \n",
       "01001       46.1534255214, 4.92611354223   \n",
       "01002       46.0091878776, 5.42801696363   \n",
       "01004        45.9608475114, 5.3729257777   \n",
       "01005       45.9961799872, 4.91227250796   \n",
       "01006       45.7494989044, 5.59432017366   \n",
       "\n",
       "                                                    geo_shape   Latitude  \\\n",
       "Code INSEE                                                                 \n",
       "01001       {\"type\": \"Polygon\", \"coordinates\": [[[4.926273...  46.153426   \n",
       "01002       {\"type\": \"Polygon\", \"coordinates\": [[[5.430089...  46.009188   \n",
       "01004       {\"type\": \"Polygon\", \"coordinates\": [[[5.386190...  45.960848   \n",
       "01005       {\"type\": \"Polygon\", \"coordinates\": [[[4.895580...  45.996180   \n",
       "01006       {\"type\": \"Polygon\", \"coordinates\": [[[5.614854...  45.749499   \n",
       "\n",
       "            Longitude  \n",
       "Code INSEE             \n",
       "01001        4.926114  \n",
       "01002        5.428017  \n",
       "01004        5.372926  \n",
       "01005        4.912273  \n",
       "01006        5.594320  "
      ]
     },
     "execution_count": 2,
     "metadata": {},
     "output_type": "execute_result"
    }
   ],
   "source": [
    "# chargement et traitement des données\n",
    "geo = pd.read_csv(\"correspondance-code-insee-code-postal.csv\",\n",
    "                   sep=';',\n",
    "                   usecols=range(11),\n",
    "                   index_col=\"Code INSEE\")\n",
    "geo = geo.sort_index()\n",
    "geo[['Latitude', 'Longitude']] = geo[\"geo_point_2d\"].str.extract(\"(.*), (.*)\").astype(float)\n",
    "geo.head()"
   ]
  },
  {
   "cell_type": "markdown",
   "metadata": {},
   "source": [
    "**Projet maison n° 1**\n",
    "\n",
    "- Ajoutez une colonne 'CP Ville' avec le Code postal + un espace + et le nom de la Ville.\n",
    "- Ecrivez une fonction qui détermine la commune la plus proche d'un point à partir de sa latitude et sa longitude.\n",
    "- Ajoutez une fonction de conversion pour pouvoir utiliser la première fonction avec un GPS (degrés, minutes, secondes)."
   ]
  },
  {
   "cell_type": "code",
   "execution_count": 41,
   "metadata": {},
   "outputs": [
    {
     "data": {
      "text/plain": [
       "Code INSEE\n",
       "01001    01400 L'ABERGEMENT-CLEMENCIAT\n",
       "01002      01640 L'ABERGEMENT-DE-VAREY\n",
       "01004          01500 AMBERIEU-EN-BUGEY\n",
       "01005        01330 AMBERIEUX-EN-DOMBES\n",
       "01006                    01300 AMBLEON\n",
       "01007                   01500 AMBRONAY\n",
       "01008                   01500 AMBUTRIX\n",
       "01009           01300 ANDERT-ET-CONDON\n",
       "                     ...              \n",
       "97610                    97600 KOUNGOU\n",
       "97611                  97600 MAMOUDZOU\n",
       "97612                  97630 MTSAMBORO\n",
       "97613              97650 M'TSANGAMOUJI\n",
       "97614                   97670 OUANGANI\n",
       "97615                   97610 PAMANDZI\n",
       "97616                       97640 SADA\n",
       "97617                   97680 TSINGONI\n",
       "Name: CP Ville, Length: 36742, dtype: object"
      ]
     },
     "execution_count": 41,
     "metadata": {},
     "output_type": "execute_result"
    }
   ],
   "source": [
    "#Ajoutez une colonne 'CP Ville' avec le Code postal + un espace + et le nom de la Ville.\n",
    "\n",
    "geo['CP Ville'] = geo['Code Postal']+' '+geo['Commune']\n",
    "\n",
    "geo['CP Ville']"
   ]
  },
  {
   "cell_type": "code",
   "execution_count": 37,
   "metadata": {
    "scrolled": false
   },
   "outputs": [
    {
     "data": {
      "text/plain": [
       "\"L'ABERGEMENT-CLEMENCIAT\""
      ]
     },
     "execution_count": 37,
     "metadata": {},
     "output_type": "execute_result"
    }
   ],
   "source": [
    "# fonction recherche de ville\n",
    "def ville(lat, long):\n",
    "    geo['Distance'] =np.sqrt((geo['Latitude']-lat)**2+(geo['Longitude']-long)**2)\n",
    "    \n",
    "    city = geo['Commune'].loc[geo['Distance'].idxmin()]\n",
    "    return city\n",
    "\n",
    "#ville(46.153426,4.926114) \n",
    "\n"
   ]
  },
  {
   "cell_type": "code",
   "execution_count": 38,
   "metadata": {
    "scrolled": false
   },
   "outputs": [],
   "source": [
    "# conversion degrés, minutes, secondes => décimal\n",
    "def dms2dec(deg, mn, sec):\n",
    "    return deg + mn / 60 + sec / 3600"
   ]
  },
  {
   "cell_type": "code",
   "execution_count": 39,
   "metadata": {
    "scrolled": false
   },
   "outputs": [
    {
     "data": {
      "text/plain": [
       "'BOSJEAN'"
      ]
     },
     "execution_count": 39,
     "metadata": {},
     "output_type": "execute_result"
    }
   ],
   "source": [
    "# on applique la fonction à une coordonnée tirée au hasard\n",
    "# init du random\n",
    "np.random.seed(0)\n",
    "\n",
    "a, b = 41.5, 51.1  # latitude min et max de la France métropolitaine\n",
    "lat = (b - a) * np.random.random() + a\n",
    "a, b = -5.1, 9.5  # longitude min et max de la France métropolitaine\n",
    "long = (b - a) * np.random.random() + a\n",
    "\n",
    "ville(lat, long)"
   ]
  },
  {
   "cell_type": "code",
   "execution_count": 75,
   "metadata": {
    "scrolled": false
   },
   "outputs": [
    {
     "data": {
      "text/plain": [
       "'PALAISEAU'"
      ]
     },
     "execution_count": 75,
     "metadata": {},
     "output_type": "execute_result"
    }
   ],
   "source": [
    "# à partir de coordonnées GPS précises\n",
    "ville(dms2dec(48, 42, 52), dms2dec(2, 14, 45))"
   ]
  },
  {
   "cell_type": "markdown",
   "metadata": {},
   "source": [
    "**Projet maison n° 2**\n",
    "\n",
    "La colonne \"geo_shape\" comporte des chaines de catactères au format JSON. Elles représentent les formes géométriques des communes qui sont soit des polygones soit composées de plusieurs polygones.\n",
    "\n",
    "- Utiliser la librairie Python json pour parser la colonne \"geo_shape\".\n",
    "- Donner le décompte des valeurs accédées avec la clé \"type\".\n",
    "- Donner le décompte des longueurs des listes accédées avec la clé \"coordinates\".\n",
    "- Quelle commune est la plus complexe géométriquement ?\n",
    "- Quelle commune est la seconde la plus complexe géométriquement ?\n",
    "- Quelles sont les villes qui sont de type \"Polygon\" mais dont la longueur des listes accédées avec la clé \"coordinates\" vaut 2 ?\n",
    "- Pour ces villes vérifier que le premier polygone contient bien le second (enclave). NB : installer la librairie shapely, utiliser la classe Polygon de shapely.geometry. Sur Windows shapely peut nécessiter d'installer la dll \"geos_c.dll\" dans le répertoire \"Library/bin\" de votre environnement Python."
   ]
  },
  {
   "cell_type": "code",
   "execution_count": 76,
   "metadata": {},
   "outputs": [
    {
     "data": {
      "text/plain": [
       "Polygon         36670\n",
       "MultiPolygon       72\n",
       "Name: geo_shape_type, dtype: int64"
      ]
     },
     "execution_count": 76,
     "metadata": {},
     "output_type": "execute_result"
    }
   ],
   "source": [
    "# Donner le décompte des valeurs accédées avec la clé \"type\".\n",
    "import json\n",
    "\n",
    "def get_json_field(json_value, field): \n",
    "    return json.loads(json_value)[field]\n",
    "\n",
    "# geo['geo_shape_type'] = [json.loads(geo_shape)['type']  for geo_shape in geo[\"geo_shape\"].values] trop lourd \n",
    "\n",
    "geo['geo_shape_type'] = geo['geo_shape'].apply(get_json_field,field='type')\n",
    "\n",
    "\n",
    "geo['geo_shape_type'].value_counts()"
   ]
  },
  {
   "cell_type": "code",
   "execution_count": 79,
   "metadata": {},
   "outputs": [
    {
     "data": {
      "text/plain": [
       "1    36660\n",
       "2       80\n",
       "3        1\n",
       "4        1\n",
       "Name: geo_shape_coordinates_length, dtype: int64"
      ]
     },
     "execution_count": 79,
     "metadata": {},
     "output_type": "execute_result"
    }
   ],
   "source": [
    "#Donner le décompte des longueurs des listes accédées avec la clé \"coordinates\".\n",
    "\n",
    "geo['geo_shape_coordinates_length'] = geo['geo_shape'].apply(get_json_field,field='coordinates').apply(len)\n",
    "\n",
    "\n",
    "geo['geo_shape_coordinates_length'].value_counts()"
   ]
  },
  {
   "cell_type": "code",
   "execution_count": 82,
   "metadata": {},
   "outputs": [
    {
     "data": {
      "text/plain": [
       "'HYERES'"
      ]
     },
     "execution_count": 82,
     "metadata": {},
     "output_type": "execute_result"
    }
   ],
   "source": [
    "#Quelle commune est la plus complexe géométriquement ?\n",
    "Commune = geo['Commune'].loc[geo['geo_shape_coordinates_length'].idxmax()]\n",
    "\n",
    "Commune"
   ]
  },
  {
   "cell_type": "code",
   "execution_count": 83,
   "metadata": {},
   "outputs": [
    {
     "data": {
      "text/plain": [
       "Code INSEE\n",
       "27701    VAL-DE-REUIL\n",
       "Name: Commune, dtype: object"
      ]
     },
     "execution_count": 83,
     "metadata": {},
     "output_type": "execute_result"
    }
   ],
   "source": [
    "#Quelle commune est la seconde la plus complexe géométriquement ?\n",
    "geo['Commune'].loc[geo['geo_shape_coordinates_length']==3]"
   ]
  },
  {
   "cell_type": "code",
   "execution_count": 89,
   "metadata": {},
   "outputs": [
    {
     "data": {
      "text/plain": [
       "Code INSEE\n",
       "02232               COYOLLES\n",
       "05052               EYGLIERS\n",
       "09042    LA BASTIDE-DE-SEROU\n",
       "22209              PLOUBALAY\n",
       "2A272                SARTENE\n",
       "2B049              CALENZANA\n",
       "48080               LANGOGNE\n",
       "67486              SUNDHOUSE\n",
       "68078              EGUISHEIM\n",
       "71028            BEAUVERNOIS\n",
       "Name: Commune, dtype: object"
      ]
     },
     "execution_count": 89,
     "metadata": {},
     "output_type": "execute_result"
    }
   ],
   "source": [
    "#Quelles sont les villes qui sont de type \"Polygon\" mais dont la longueur des listes accédées avec la clé \"coordinates\" vaut 2 ?\n",
    "cities = geo['Commune'].loc[(geo['geo_shape_type']=='Polygon') & (geo['geo_shape_coordinates_length']==2)]\n",
    "cities"
   ]
  },
  {
   "cell_type": "code",
   "execution_count": 104,
   "metadata": {},
   "outputs": [
    {
     "name": "stdout",
     "output_type": "stream",
     "text": [
      "Le premier polygone contient le second(enclave): True\n",
      "[[3.037897560658703, 49.16921270775551], [3.022651486402025, 49.170816855142384], [3.016004215046372, 49.17997922335811], [2.991714837684887, 49.19196418704024], [2.98137479741421, 49.1844740569323], [2.971813659157835, 49.187528930723204], [2.969496165186601, 49.20994111330158], [2.970866610714616, 49.21304305603823], [2.95873860742351, 49.22660554534713], [2.964349025205721, 49.231911431076426], [3.001619992136874, 49.23565651032947], [3.013095594217706, 49.229218996200984], [3.008290195644244, 49.22338489957146], [3.017032136166848, 49.21975199592734], [3.026996333441546, 49.22011876947888], [3.039328911223897, 49.23046290137869], [3.033310889856941, 49.243338284278906], [3.040777749481918, 49.239928826200895], [3.04971736146969, 49.24144476338487], [3.055118307185106, 49.24608118447443], [3.055004734193956, 49.24258418221722], [3.064571289474025, 49.23964873656758], [3.072714287073868, 49.23075304901955], [3.052139968025862, 49.20662530669365], [3.043415415215641, 49.20904712653231], [3.034837158984639, 49.20577748117517], [3.030573868321318, 49.2123504581126], [3.015686091213985, 49.21631796213402], [3.005036414223186, 49.21475459701353], [2.998710147692223, 49.209603340127174], [3.004238336940103, 49.18873686279621], [3.007968795605103, 49.18630028280298], [3.026473310272094, 49.19039724420592], [3.029706755691785, 49.183941400027884], [3.035069112616855, 49.18361630357866], [3.037897560658703, 49.16921270775551]]\n",
      "Le premier polygone contient le second(enclave): True\n",
      "[[6.719912606601575, 44.70392733592357], [6.705622423180216, 44.69418637163232], [6.694592995209156, 44.67842257386865], [6.678172424486113, 44.67050713004595], [6.663799240184577, 44.66817240846341], [6.639597814376108, 44.671630305339676], [6.624522040742149, 44.6626716190691], [6.604323221031101, 44.6688744021339], [6.607458971709613, 44.67957775961398], [6.620832622948124, 44.68247526737951], [6.657632342820152, 44.70447161356139], [6.662520251385447, 44.721127444237865], [6.673392399523107, 44.72752664405137], [6.682977009053436, 44.72812743965495], [6.692370183456479, 44.71675578970993], [6.717960734642892, 44.70709337553799], [6.719912606601575, 44.70392733592357]]\n",
      "Le premier polygone contient le second(enclave): True\n",
      "[[1.423960819701936, 42.99550854650971], [1.411792714861253, 43.00488253979556], [1.403937548161726, 43.001725863107275], [1.385878842075131, 43.00194214548953], [1.379235936920859, 42.99756947016916], [1.37432998594885, 43.00076974195235], [1.370418672031744, 43.0060628185071], [1.373373491016677, 43.014761154681835], [1.369671458190615, 43.02085804894271], [1.360856542995069, 43.023026991342206], [1.360686317965855, 43.02644271979021], [1.383458331716887, 43.030718270866814], [1.390726403524921, 43.03966087159138], [1.386199430483873, 43.04588105974773], [1.399999951715563, 43.05378737447278], [1.408961291720428, 43.05399214669633], [1.407354360684721, 43.047302593590814], [1.411197335772547, 43.04537134667973], [1.436964674524814, 43.05268417976549], [1.451826248398063, 43.045081779011184], [1.463969990713715, 43.04779248146316], [1.472708161208548, 43.04573090302263], [1.484104793194871, 43.035322371174544], [1.492717555288968, 43.03326645605297], [1.492100415478533, 43.024001632437525], [1.482200597747997, 43.013931684279974], [1.460878815301722, 43.013197008705816], [1.454097047177549, 43.00182874821834], [1.451179690042934, 42.9995559756382], [1.423960819701936, 42.99550854650971]]\n",
      "Le premier polygone contient le second(enclave): True\n",
      "[[-2.11237709725211, 48.52896113651634], [-2.141587392052613, 48.52940342471556], [-2.150191104348408, 48.53256431359094], [-2.166911787766973, 48.54079865058159], [-2.175477619212829, 48.55727450025203], [-2.166593355699123, 48.56467475872456], [-2.16711023067735, 48.57720074171378], [-2.16469718587925, 48.58028047204041], [-2.156706670584626, 48.58770387953187], [-2.143551268591811, 48.588508295098514], [-2.135121390580411, 48.596066214940734], [-2.12594190901669, 48.59752606700536], [-2.124900386740514, 48.593415422988386], [-2.094322055529732, 48.57175294679561], [-2.080555468796356, 48.568042668487585], [-2.074316245996035, 48.552020838321546], [-2.084031307908226, 48.55125383391317], [-2.08896106637863, 48.54176699957834], [-2.098851786947083, 48.54031507851242], [-2.105528191122636, 48.53151852291886], [-2.110540372269751, 48.53211418679354], [-2.11237709725211, 48.52896113651634]]\n",
      "Le premier polygone contient le second(enclave): True\n",
      "[[8.940487655060174, 41.490088793265336], [8.934937462138254, 41.49565270292753], [8.927899319670562, 41.48994606172528], [8.921207232760445, 41.489486921919706], [8.921187933487062, 41.500320068461065], [8.914035115528598, 41.508215352905424], [8.885455325883822, 41.50497027991917], [8.882814612539892, 41.50817084006419], [8.888948281539617, 41.51601127342003], [8.875971038430468, 41.52479792084881], [8.856037152078967, 41.518772679035685], [8.84427072815132, 41.51802445810708], [8.841734612209835, 41.5241353007439], [8.85219421925349, 41.534807201493315], [8.851779518896077, 41.541646449951365], [8.839596840955709, 41.54583687311704], [8.821236682463267, 41.54646099726652], [8.812014236662334, 41.553851273567055], [8.807601327509571, 41.556643719771444], [8.789121830263063, 41.55669240054682], [8.786347135443387, 41.5636253083039], [8.79929081570752, 41.57313040790262], [8.790250864413634, 41.58502862312804], [8.781735527896563, 41.58514676972612], [8.781873174006089, 41.587660330215634], [8.792820333277973, 41.593512897797645], [8.814283737787157, 41.58758121381912], [8.841381020725203, 41.583969935113394], [8.858427544028359, 41.58800861931877], [8.872038324504796, 41.58701408094366], [8.89760911675143, 41.594945963574574], [8.90111039799125, 41.60503321220067], [8.920219927987851, 41.61482722344442], [8.921864712173143, 41.62526208844351], [8.914045473877383, 41.63372668219506], [8.919936432368445, 41.64232866633026], [8.918908117764598, 41.65520205274961], [8.927923456086974, 41.65517122249479], [8.951992496954169, 41.64733525978776], [8.969826614699436, 41.64867417871037], [8.972057338536056, 41.65161860439834], [8.974047839975858, 41.65444156579924], [8.986515144301611, 41.656001720950115], [8.991187274346984, 41.66133760837386], [8.999541102816641, 41.660572829774885], [9.001174824342153, 41.65194116904211], [8.996448423023212, 41.646545829382006], [9.010205854614961, 41.63127714371857], [8.992913879794878, 41.619854365525384], [8.996721910265524, 41.60343486959253], [9.023205357162729, 41.59932517421176], [9.041223334421797, 41.610097466529446], [9.045780928116923, 41.6094839062743], [9.05615725179059, 41.60322979549594], [9.061212553213215, 41.59401253629773], [9.071323036527572, 41.587429901578886], [9.084021021617211, 41.584100766524045], [9.077721415221102, 41.57929595764477], [9.075764301760769, 41.572618386802496], [9.038752952165023, 41.5701524522343], [9.020935882737628, 41.558874156172315], [9.013588814441116, 41.546156223287575], [8.989648351386203, 41.529551256481966], [8.975143899699017, 41.51157621319622], [8.958571872971154, 41.50617997549443], [8.940487655060174, 41.490088793265336]]\n",
      "Le premier polygone contient le second(enclave): True\n",
      "[[8.911220447280732, 42.41019895400797], [8.884218573112888, 42.41310234951923], [8.863866173007997, 42.42095028075512], [8.846684793606927, 42.416046396385504], [8.838316952532919, 42.41897560411348], [8.836789371249292, 42.42231317854986], [8.8023692868082, 42.43339827358766], [8.79819839777502, 42.450452944186374], [8.7739670158796, 42.46090936171262], [8.760436392901257, 42.45874025353867], [8.734187483550514, 42.44405196111259], [8.717946113455694, 42.45675911359143], [8.694849777366148, 42.459916844035796], [8.679451771403478, 42.46728232186558], [8.675568392254068, 42.4759158785741], [8.653684943043109, 42.47522349346573], [8.648090044550363, 42.47515090604124], [8.664904902508646, 42.495743019541386], [8.664680436767005, 42.51450092800105], [8.67598577356893, 42.518757120206644], [8.684046884666499, 42.51471331057626], [8.698144842185041, 42.52633500423127], [8.720321323091616, 42.524588109131], [8.717443529306735, 42.52891562101324], [8.72816844736046, 42.534261403273085], [8.737368856147409, 42.53511853059591], [8.764326145116856, 42.516736624027416], [8.768908618921122, 42.51601089721468], [8.773468668708057, 42.51678242174018], [8.790128363492546, 42.523080285720695], [8.795441575528143, 42.52872249454884], [8.815314126597963, 42.53698739352968], [8.833731607359883, 42.533456909413665], [8.848440029106337, 42.52443878958232], [8.85791834018546, 42.52344038061332], [8.918912106966228, 42.49798365541715], [8.921589617434277, 42.4918401478297], [8.923643094157555, 42.48543381818476], [8.915817260300555, 42.47371751474966], [8.916452379291675, 42.46737222355407], [8.919039837719003, 42.45951219719717], [8.91389977314112, 42.446150558972896], [8.919920024130771, 42.426066161414596], [8.911220447280732, 42.41019895400797]]\n"
     ]
    },
    {
     "name": "stdout",
     "output_type": "stream",
     "text": [
      "Le premier polygone contient le second(enclave): True\n",
      "[[3.850531831651621, 44.68745054452225], [3.841797319218708, 44.68992121193551], [3.835414561952019, 44.702079092055754], [3.809299991076912, 44.69887880511517], [3.81011269784627, 44.70886658913203], [3.796992491197599, 44.71762305033686], [3.7903208160594, 44.73710022848897], [3.791996159461473, 44.74664093608505], [3.805820420015999, 44.74771171118465], [3.812621618189193, 44.752361872171655], [3.825219048975053, 44.748919460501746], [3.829914990945916, 44.75463764760284], [3.839418691548341, 44.747120131946], [3.862527328127106, 44.743872437148596], [3.875635603121645, 44.73947491433879], [3.877138133617485, 44.736185735657685], [3.863182979295896, 44.71908066005584], [3.863127621411198, 44.71217543665072], [3.86992027570744, 44.70725141446061], [3.869647744005664, 44.69696264049236], [3.854383929195778, 44.69262482228565], [3.850531831651621, 44.68745054452225]]\n",
      "Le premier polygone contient le second(enclave): True\n",
      "[[7.594939251325704, 48.23228567615893], [7.588855304886924, 48.23476653402034], [7.585419823389836, 48.23699100376812], [7.590099868944651, 48.24688554386628], [7.587150338312436, 48.249740049491464], [7.610075838633886, 48.267909618253555], [7.639017955776632, 48.27295056333101], [7.653630657535059, 48.27055524283416], [7.667082532447679, 48.27396336352798], [7.66936576871601, 48.263931552941195], [7.680905357582683, 48.25767924208412], [7.679568700137115, 48.25418093504633], [7.67041855598691, 48.25236190967315], [7.662041614338972, 48.2441753120173], [7.645456370280476, 48.23758231255902], [7.628224805509612, 48.244009432135904], [7.618325878993045, 48.2443789814865], [7.594939251325704, 48.23228567615893]]\n",
      "Le premier polygone contient le second(enclave): True\n",
      "[[7.281156117554148, 48.02598189605906], [7.24788891542066, 48.02828773431485], [7.241273593394611, 48.03291530381733], [7.242481315180386, 48.036079987659186], [7.254862722536156, 48.04149954101626], [7.30948275586246, 48.051127979358206], [7.327924015475516, 48.045043626682386], [7.343280960385735, 48.04514455812271], [7.349961450254219, 48.039922797869906], [7.347832293234761, 48.027915659598186], [7.347734843414252, 48.02444039275514], [7.308759651927675, 48.03251706594283], [7.294756205000829, 48.0285141155033], [7.281156117554148, 48.02598189605906]]\n",
      "Le premier polygone contient le second(enclave): True\n",
      "[[5.416652515196548, 46.826781866293906], [5.410217185387586, 46.83258296867396], [5.420315317360915, 46.83238893904201], [5.4210495987404, 46.842651682831224], [5.430777156366951, 46.850247547468136], [5.425167801869602, 46.85986038128268], [5.431176175798011, 46.860598376499155], [5.442338690125863, 46.85447973708301], [5.441118503660087, 46.859162808460354], [5.445187534123193, 46.85940972021739], [5.459286424114921, 46.855244785634916], [5.458277821223208, 46.84546545916178], [5.462623036293612, 46.839679351300234], [5.458995651363518, 46.83033436991658], [5.463022172731116, 46.828536649641606], [5.416652515196548, 46.826781866293906]]\n"
     ]
    }
   ],
   "source": [
    "#Pour ces villes vérifier que le premier polygone contient bien le second (enclave). NB : installer la librairie shapely, utiliser la classe Polygon de shapely.geometry. Sur Windows shapely peut nécessiter d'installer la dll \"geos_c.dll\" dans le répertoire \"Library/bin\" de votre environnement Python.\n",
    "from shapely.geometry import Polygon\n",
    "for city in cities: \n",
    "    coordinates=geo['geo_shape'].apply(get_json_field,field='coordinates').loc[(geo['Commune']==city)].values[0]\n",
    "    \n",
    "    print(\"{} --Le premier polygone contient le second(enclave): {}\".format(Polygon(coordinates[0]).contains(Polygon(coordinates[1]))))\n",
    "    \n"
   ]
  },
  {
   "cell_type": "code",
   "execution_count": null,
   "metadata": {},
   "outputs": [],
   "source": []
  }
 ],
 "metadata": {
  "anaconda-cloud": {},
  "kernelspec": {
   "display_name": "Python 3",
   "language": "python",
   "name": "python3"
  },
  "language_info": {
   "codemirror_mode": {
    "name": "ipython",
    "version": 3
   },
   "file_extension": ".py",
   "mimetype": "text/x-python",
   "name": "python",
   "nbconvert_exporter": "python",
   "pygments_lexer": "ipython3",
   "version": "3.8.8"
  }
 },
 "nbformat": 4,
 "nbformat_minor": 1
}